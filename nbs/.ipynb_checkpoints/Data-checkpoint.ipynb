{
 "cells": [
  {
   "cell_type": "markdown",
   "metadata": {},
   "source": [
    "# Notebook to manipulate data before training"
   ]
  },
  {
   "cell_type": "code",
   "execution_count": 1,
   "metadata": {},
   "outputs": [],
   "source": [
    "%reload_ext autoreload\n",
    "%autoreload 2\n",
    "%matplotlib inline"
   ]
  },
  {
   "cell_type": "code",
   "execution_count": 18,
   "metadata": {},
   "outputs": [],
   "source": [
    "from fastai.vision import *\n",
    "from fastai.callbacks.hooks import *\n",
    "from fastai.utils.mem import *\n",
    "import zipfile\n",
    "import cv2\n",
    "from PIL import Image\n",
    "import matplotlib.pyplot as plt\n",
    "import numpy as np"
   ]
  },
  {
   "cell_type": "code",
   "execution_count": 9,
   "metadata": {},
   "outputs": [],
   "source": [
    "path = Path('/storage')\n",
    "path.ls()\n",
    "\n",
    "path_lbl = path/'vocal_chords_and_rings_data/data/labels2'\n",
    "path_img = path/'vocal_chords_and_rings_data/data/images2'\n",
    "path_lbl = path_lbl.resolve()\n",
    "path_img = path_img.resolve()"
   ]
  },
  {
   "cell_type": "code",
   "execution_count": 6,
   "metadata": {},
   "outputs": [],
   "source": [
    "zip_ref = zipfile.ZipFile('/storage/vocal_chords_and_rings_data/export-20190606.zip', 'r')\n",
    "zip_ref.extractall('/storage/vocal_chords_and_rings_data/')\n",
    "zip_ref.close()"
   ]
  },
  {
   "cell_type": "code",
   "execution_count": 8,
   "metadata": {
    "collapsed": true
   },
   "outputs": [
    {
     "name": "stdout",
     "output_type": "stream",
     "text": [
      "'/storage/vocal_chords_and_rings_data/export-06062019/export/validation/labels/aeac5d0b-0000000.png' -> '/storage/vocal_chords_and_rings_data/data/labels2/aeac5d0b-0000000.png'\n",
      "'/storage/vocal_chords_and_rings_data/export-06062019/export/validation/labels/eca4ee98-0000000.png' -> '/storage/vocal_chords_and_rings_data/data/labels2/eca4ee98-0000000.png'\n",
      "'/storage/vocal_chords_and_rings_data/export-06062019/export/validation/labels/fe4b658f-0000000.png' -> '/storage/vocal_chords_and_rings_data/data/labels2/fe4b658f-0000000.png'\n",
      "'/storage/vocal_chords_and_rings_data/export-06062019/export/train/labels/07496dbb-0000000.png' -> '/storage/vocal_chords_and_rings_data/data/labels2/07496dbb-0000000.png'\n",
      "'/storage/vocal_chords_and_rings_data/export-06062019/export/train/labels/3f02f0bc-0000000.png' -> '/storage/vocal_chords_and_rings_data/data/labels2/3f02f0bc-0000000.png'\n",
      "'/storage/vocal_chords_and_rings_data/export-06062019/export/train/labels/4fefa1cb-0000000.png' -> '/storage/vocal_chords_and_rings_data/data/labels2/4fefa1cb-0000000.png'\n",
      "'/storage/vocal_chords_and_rings_data/export-06062019/export/train/labels/5c0f3681-0000000.png' -> '/storage/vocal_chords_and_rings_data/data/labels2/5c0f3681-0000000.png'\n",
      "'/storage/vocal_chords_and_rings_data/export-06062019/export/train/labels/5f6e80bf-0000000.png' -> '/storage/vocal_chords_and_rings_data/data/labels2/5f6e80bf-0000000.png'\n",
      "'/storage/vocal_chords_and_rings_data/export-06062019/export/train/labels/6b305c19-0000000.png' -> '/storage/vocal_chords_and_rings_data/data/labels2/6b305c19-0000000.png'\n",
      "'/storage/vocal_chords_and_rings_data/export-06062019/export/train/labels/9893aa71-0000000.png' -> '/storage/vocal_chords_and_rings_data/data/labels2/9893aa71-0000000.png'\n",
      "'/storage/vocal_chords_and_rings_data/export-06062019/export/train/labels/a8dd5f25-0000000.png' -> '/storage/vocal_chords_and_rings_data/data/labels2/a8dd5f25-0000000.png'\n",
      "'/storage/vocal_chords_and_rings_data/export-06062019/export/train/labels/ad2b0eec-0000000.png' -> '/storage/vocal_chords_and_rings_data/data/labels2/ad2b0eec-0000000.png'\n",
      "'/storage/vocal_chords_and_rings_data/export-06062019/export/train/labels/b4342b53-0000000.png' -> '/storage/vocal_chords_and_rings_data/data/labels2/b4342b53-0000000.png'\n",
      "'/storage/vocal_chords_and_rings_data/export-06062019/export/train/labels/b4846ea8-0000000.png' -> '/storage/vocal_chords_and_rings_data/data/labels2/b4846ea8-0000000.png'\n",
      "'/storage/vocal_chords_and_rings_data/export-06062019/export/train/labels/c02290e7-0000000.png' -> '/storage/vocal_chords_and_rings_data/data/labels2/c02290e7-0000000.png'\n",
      "'/storage/vocal_chords_and_rings_data/export-06062019/export/train/labels/e74bbcc7-0000000.png' -> '/storage/vocal_chords_and_rings_data/data/labels2/e74bbcc7-0000000.png'\n",
      "'/storage/vocal_chords_and_rings_data/export-06062019/export/train/labels/fa07f304-0000000.png' -> '/storage/vocal_chords_and_rings_data/data/labels2/fa07f304-0000000.png'\n",
      "'/storage/vocal_chords_and_rings_data/export-06062019/export/test/labels/1e311c3d-0000000.png' -> '/storage/vocal_chords_and_rings_data/data/labels2/1e311c3d-0000000.png'\n",
      "'/storage/vocal_chords_and_rings_data/export-06062019/export/test/labels/95cc11e1-0000000.png' -> '/storage/vocal_chords_and_rings_data/data/labels2/95cc11e1-0000000.png'\n",
      "'/storage/vocal_chords_and_rings_data/export-06062019/export/validation/images/aeac5d0b-0000000.png' -> '/storage/vocal_chords_and_rings_data/data/images2/aeac5d0b-0000000.png'\n",
      "'/storage/vocal_chords_and_rings_data/export-06062019/export/validation/images/eca4ee98-0000000.png' -> '/storage/vocal_chords_and_rings_data/data/images2/eca4ee98-0000000.png'\n",
      "'/storage/vocal_chords_and_rings_data/export-06062019/export/validation/images/fe4b658f-0000000.png' -> '/storage/vocal_chords_and_rings_data/data/images2/fe4b658f-0000000.png'\n",
      "'/storage/vocal_chords_and_rings_data/export-06062019/export/train/images/07496dbb-0000000.png' -> '/storage/vocal_chords_and_rings_data/data/images2/07496dbb-0000000.png'\n",
      "'/storage/vocal_chords_and_rings_data/export-06062019/export/train/images/3f02f0bc-0000000.png' -> '/storage/vocal_chords_and_rings_data/data/images2/3f02f0bc-0000000.png'\n",
      "'/storage/vocal_chords_and_rings_data/export-06062019/export/train/images/4fefa1cb-0000000.png' -> '/storage/vocal_chords_and_rings_data/data/images2/4fefa1cb-0000000.png'\n",
      "'/storage/vocal_chords_and_rings_data/export-06062019/export/train/images/5c0f3681-0000000.png' -> '/storage/vocal_chords_and_rings_data/data/images2/5c0f3681-0000000.png'\n",
      "'/storage/vocal_chords_and_rings_data/export-06062019/export/train/images/5f6e80bf-0000000.png' -> '/storage/vocal_chords_and_rings_data/data/images2/5f6e80bf-0000000.png'\n",
      "'/storage/vocal_chords_and_rings_data/export-06062019/export/train/images/6b305c19-0000000.png' -> '/storage/vocal_chords_and_rings_data/data/images2/6b305c19-0000000.png'\n",
      "'/storage/vocal_chords_and_rings_data/export-06062019/export/train/images/9893aa71-0000000.png' -> '/storage/vocal_chords_and_rings_data/data/images2/9893aa71-0000000.png'\n",
      "'/storage/vocal_chords_and_rings_data/export-06062019/export/train/images/a8dd5f25-0000000.png' -> '/storage/vocal_chords_and_rings_data/data/images2/a8dd5f25-0000000.png'\n",
      "'/storage/vocal_chords_and_rings_data/export-06062019/export/train/images/ad2b0eec-0000000.png' -> '/storage/vocal_chords_and_rings_data/data/images2/ad2b0eec-0000000.png'\n",
      "'/storage/vocal_chords_and_rings_data/export-06062019/export/train/images/b4342b53-0000000.png' -> '/storage/vocal_chords_and_rings_data/data/images2/b4342b53-0000000.png'\n",
      "'/storage/vocal_chords_and_rings_data/export-06062019/export/train/images/b4846ea8-0000000.png' -> '/storage/vocal_chords_and_rings_data/data/images2/b4846ea8-0000000.png'\n",
      "'/storage/vocal_chords_and_rings_data/export-06062019/export/train/images/c02290e7-0000000.png' -> '/storage/vocal_chords_and_rings_data/data/images2/c02290e7-0000000.png'\n",
      "'/storage/vocal_chords_and_rings_data/export-06062019/export/train/images/e74bbcc7-0000000.png' -> '/storage/vocal_chords_and_rings_data/data/images2/e74bbcc7-0000000.png'\n",
      "'/storage/vocal_chords_and_rings_data/export-06062019/export/train/images/fa07f304-0000000.png' -> '/storage/vocal_chords_and_rings_data/data/images2/fa07f304-0000000.png'\n",
      "'/storage/vocal_chords_and_rings_data/export-06062019/export/test/images/1e311c3d-0000000.png' -> '/storage/vocal_chords_and_rings_data/data/images2/1e311c3d-0000000.png'\n",
      "'/storage/vocal_chords_and_rings_data/export-06062019/export/test/images/95cc11e1-0000000.png' -> '/storage/vocal_chords_and_rings_data/data/images2/95cc11e1-0000000.png'\n"
     ]
    }
   ],
   "source": [
    "! mkdir -p /storage/vocal_chords_and_rings_data/data/images2\n",
    "! mkdir -p /storage/vocal_chords_and_rings_data/data/labels2\n",
    "\n",
    "! mv -v /storage/vocal_chords_and_rings_data/export-06062019/export/validation/labels/* /storage/vocal_chords_and_rings_data/data/labels2\n",
    "! mv -v /storage/vocal_chords_and_rings_data/export-06062019/export/train/labels/* /storage/vocal_chords_and_rings_data/data/labels2\n",
    "! mv -v /storage/vocal_chords_and_rings_data/export-06062019/export/test/labels/* /storage/vocal_chords_and_rings_data/data/labels2\n",
    "\n",
    "! mv -v /storage/vocal_chords_and_rings_data/export-06062019/export/validation/images/* /storage/vocal_chords_and_rings_data/data/images2\n",
    "! mv -v /storage/vocal_chords_and_rings_data/export-06062019/export/train/images/* /storage/vocal_chords_and_rings_data/data/images2\n",
    "! mv -v /storage/vocal_chords_and_rings_data/export-06062019/export/test/images/* /storage/vocal_chords_and_rings_data/data/images2"
   ]
  },
  {
   "cell_type": "code",
   "execution_count": null,
   "metadata": {},
   "outputs": [],
   "source": []
  },
  {
   "cell_type": "code",
   "execution_count": 12,
   "metadata": {
    "collapsed": true
   },
   "outputs": [
    {
     "name": "stdout",
     "output_type": "stream",
     "text": [
      "/storage/vocal_chords_and_rings_data/data/images2/07496dbb-0000000.png\n",
      "/storage/vocal_chords_and_rings_data/data/images2/eca4ee98-0000000.png\n",
      "/storage/vocal_chords_and_rings_data/data/images2/b4342b53-0000000.png\n",
      "/storage/vocal_chords_and_rings_data/data/images2/5c0f3681-0000000.png\n",
      "/storage/vocal_chords_and_rings_data/data/images2/ad2b0eec-0000000.png\n",
      "/storage/vocal_chords_and_rings_data/data/images2/fe4b658f-0000000.png\n",
      "/storage/vocal_chords_and_rings_data/data/images2/95cc11e1-0000000.png\n",
      "/storage/vocal_chords_and_rings_data/data/images2/9893aa71-0000000.png\n",
      "/storage/vocal_chords_and_rings_data/data/images2/6b305c19-0000000.png\n",
      "/storage/vocal_chords_and_rings_data/data/images2/b4846ea8-0000000.png\n",
      "/storage/vocal_chords_and_rings_data/data/images2/a8dd5f25-0000000.png\n",
      "/storage/vocal_chords_and_rings_data/data/images2/5f6e80bf-0000000.png\n",
      "/storage/vocal_chords_and_rings_data/data/images2/4fefa1cb-0000000.png\n",
      "/storage/vocal_chords_and_rings_data/data/images2/aeac5d0b-0000000.png\n",
      "/storage/vocal_chords_and_rings_data/data/images2/1e311c3d-0000000.png\n",
      "/storage/vocal_chords_and_rings_data/data/images2/c02290e7-0000000.png\n",
      "/storage/vocal_chords_and_rings_data/data/images2/3f02f0bc-0000000.png\n",
      "/storage/vocal_chords_and_rings_data/data/images2/e74bbcc7-0000000.png\n",
      "/storage/vocal_chords_and_rings_data/data/images2/fa07f304-0000000.png\n"
     ]
    }
   ],
   "source": [
    "#Convert all images to .png\n",
    "\n",
    "for cvt_img in get_image_files(path_img):\n",
    "    im = Image.open(cvt_img)\n",
    "    print(str(cvt_img))\n",
    "    im.save('{}.png'.format(str(cvt_img).split('.')[0]))\n",
    "    \n",
    "#Remove files with old extensions (*.jpeg, *.gif)\n",
    "import os\n",
    "\n",
    "for cvt_img in get_image_files(path_img):\n",
    "    if str(cvt_img).split('.')[1] == 'gif':\n",
    "        os.remove('{}.gif'.format(str(cvt_img).split('.')[0]))\n",
    "    if str(cvt_img).split('.')[1] == 'jpeg':\n",
    "        os.remove('{}.jpeg'.format(str(cvt_img).split('.')[0]))"
   ]
  },
  {
   "cell_type": "code",
   "execution_count": 7,
   "metadata": {},
   "outputs": [],
   "source": [
    "#Randomly create the valid and train .txt files\n",
    "import random\n",
    "percent_train = 0.85\n",
    "complete_list = []\n",
    "complete_list = [str(i).split('/')[-1] for i in get_image_files(path_img)]\n",
    "random.shuffle(complete_list)\n",
    "\n",
    "train_list = complete_list[0:int(len(complete_list)*percent_train)]\n",
    "valid_list = complete_list[int(len(complete_list)*percent_train):]\n",
    "\n",
    "with open('/storage/vocal_chords_and_rings_data/train.txt', 'w') as f:\n",
    "    for img_name in train_list:\n",
    "        f.write(\"%s\\n\" % str(img_name))\n",
    "with open('/storage/vocal_chords_and_rings_data/valid.txt', 'w') as f:\n",
    "    for img_name in valid_list:\n",
    "        f.write(\"%s\\n\" % str(img_name))\n",
    "        "
   ]
  },
  {
   "cell_type": "code",
   "execution_count": 47,
   "metadata": {},
   "outputs": [
    {
     "data": {
      "text/plain": [
       "(array([0, 2], dtype=uint8), (480, 720))"
      ]
     },
     "execution_count": 47,
     "metadata": {},
     "output_type": "execute_result"
    },
    {
     "data": {
      "image/png": "[encoded data removed]",
      "text/plain": [
       "<Figure size 432x288 with 1 Axes>"
      ]
     },
     "metadata": {
      "needs_background": "light"
     },
     "output_type": "display_data"
    }
   ],
   "source": [
    "im = Image.open(get_image_files(path_lbl)[1])\n",
    "plt.imshow(im)\n",
    "np.unique(im),np.shape(im)\n",
    "# print(\"VALUE: {}\".format(np.array(im)[10][300]))"
   ]
  },
  {
   "cell_type": "code",
   "execution_count": 42,
   "metadata": {},
   "outputs": [
    {
     "name": "stdout",
     "output_type": "stream",
     "text": [
      "UNIQUE: [ 0 29]\n",
      "(480, 720)\n",
      "UNIQUE: [ 0 29]\n",
      "(480, 720)\n",
      "UNIQUE: [ 0 76]\n",
      "(480, 720)\n",
      "UNIQUE: [  0  76 149]\n",
      "(480, 720)\n",
      "UNIQUE: [ 0 29]\n",
      "(480, 720)\n",
      "UNIQUE: [  0  76 149]\n",
      "(480, 720)\n",
      "UNIQUE: [  0  76 149]\n",
      "(480, 720)\n",
      "UNIQUE: [  0  76 149]\n",
      "(480, 720)\n",
      "UNIQUE: [ 0 29]\n",
      "(480, 720)\n",
      "UNIQUE: [ 0 29]\n",
      "(480, 720)\n",
      "UNIQUE: [ 0 29]\n",
      "(480, 720)\n",
      "UNIQUE: [ 0 29]\n",
      "(480, 720)\n",
      "UNIQUE: [ 0 29]\n",
      "(480, 720)\n",
      "UNIQUE: [ 0 29]\n",
      "(480, 720)\n",
      "UNIQUE: [ 0 29]\n",
      "(480, 720)\n",
      "UNIQUE: [ 0 76]\n",
      "(480, 720)\n",
      "UNIQUE: [  0  76 149]\n",
      "(480, 720)\n",
      "UNIQUE: [ 0 29]\n",
      "(480, 720)\n",
      "UNIQUE: [  0  76 149]\n",
      "(480, 720)\n"
     ]
    }
   ],
   "source": [
    "import cv2\n",
    "count = [0,0,0,0]\n",
    "if True:\n",
    "    for cvt_img in get_image_files(path_lbl):\n",
    "        i = cv2.imread(str(cvt_img),cv2.IMREAD_GRAYSCALE)\n",
    "        print (\"UNIQUE: {}\".format(np.unique(i)))\n",
    "#         i = cv2.cvtColor(i, cv2.COLOR_BGR2GRAY)\n",
    "        print(i.shape)\n",
    "        for col in range(i.shape[1]):\n",
    "            for row in range(i.shape[0]):\n",
    "                if i[row][col] == 0:\n",
    "                    count[0] +=1\n",
    "                    i[row][col] = 0\n",
    "                if i[row][col] == 29: #blue\n",
    "                    count[2] +=1\n",
    "                    i[row][col] = 2\n",
    "                if i[row][col] == 76: #red\n",
    "                    count[1] +=1\n",
    "                    i[row][col] = 1\n",
    "                if i[row][col] == 149:\n",
    "                    count[3] +=1\n",
    "                    i[row][col] = 3\n",
    "\n",
    "        cv2.imwrite(str(cvt_img), i)\n",
    "    "
   ]
  },
  {
   "cell_type": "code",
   "execution_count": 65,
   "metadata": {},
   "outputs": [
    {
     "data": {
      "text/plain": [
       "array([2])"
      ]
     },
     "execution_count": 65,
     "metadata": {},
     "output_type": "execute_result"
    }
   ],
   "source": [
    "list2 = [str(name2).split('/')[-1] for name2 in get_image_files(path_img)]\n",
    "path_img1 = path_img/\"../images\"\n",
    "list = [str(name).split('/')[-1] for name in get_image_files(path_img1)]\n",
    "list_intersect = np.intersect1d(list, list2)\n",
    "list_intersect"
   ]
  },
  {
   "cell_type": "code",
   "execution_count": null,
   "metadata": {},
   "outputs": [],
   "source": []
  }
 ],
 "metadata": {
  "kernelspec": {
   "display_name": "Python 3",
   "language": "python",
   "name": "python3"
  },
  "language_info": {
   "codemirror_mode": {
    "name": "ipython",
    "version": 3
   },
   "file_extension": ".py",
   "mimetype": "text/x-python",
   "name": "python",
   "nbconvert_exporter": "python",
   "pygments_lexer": "ipython3",
   "version": "3.6.8"
  }
 },
 "nbformat": 4,
 "nbformat_minor": 2
}
